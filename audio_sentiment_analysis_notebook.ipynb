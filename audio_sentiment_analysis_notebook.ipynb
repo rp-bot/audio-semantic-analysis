{
  "nbformat": 4,
  "nbformat_minor": 0,
  "metadata": {
    "colab": {
      "provenance": [],
      "mount_file_id": "1i8Q9MzN-AaO4IFKJbW30XirRm75SnguB",
      "authorship_tag": "ABX9TyPISZ7mxp/4IqaJXwJRyERd",
      "include_colab_link": true
    },
    "kernelspec": {
      "name": "python3",
      "display_name": "Python 3"
    },
    "language_info": {
      "name": "python"
    }
  },
  "cells": [
    {
      "cell_type": "markdown",
      "metadata": {
        "id": "view-in-github",
        "colab_type": "text"
      },
      "source": [
        "<a href=\"https://colab.research.google.com/github/rp-bot/audio-sentiment-analysis/blob/main/audio_sentiment_analysis_notebook.ipynb\" target=\"_parent\"><img src=\"https://colab.research.google.com/assets/colab-badge.svg\" alt=\"Open In Colab\"/></a>"
      ]
    },
    {
      "cell_type": "code",
      "execution_count": null,
      "metadata": {
        "id": "dDIGY7ojvj0r"
      },
      "outputs": [],
      "source": []
    }
  ]
}